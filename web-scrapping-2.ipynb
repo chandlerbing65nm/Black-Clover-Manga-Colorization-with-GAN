{
 "cells": [
  {
   "cell_type": "markdown",
   "metadata": {
    "papermill": {
     "duration": 0.013846,
     "end_time": "2022-05-22T06:52:42.496685",
     "exception": false,
     "start_time": "2022-05-22T06:52:42.482839",
     "status": "completed"
    },
    "tags": []
   },
   "source": [
    "# Import Libraries"
   ]
  },
  {
   "cell_type": "code",
   "execution_count": 1,
   "metadata": {
    "execution": {
     "iopub.execute_input": "2022-05-22T06:52:42.528286Z",
     "iopub.status.busy": "2022-05-22T06:52:42.527625Z",
     "iopub.status.idle": "2022-05-22T06:52:42.759227Z",
     "shell.execute_reply": "2022-05-22T06:52:42.758140Z",
     "shell.execute_reply.started": "2022-05-22T06:22:15.916918Z"
    },
    "papermill": {
     "duration": 0.249958,
     "end_time": "2022-05-22T06:52:42.759355",
     "exception": false,
     "start_time": "2022-05-22T06:52:42.509397",
     "status": "completed"
    },
    "tags": []
   },
   "outputs": [],
   "source": [
    "import os\n",
    "import numpy as np\n",
    "import bs4\n",
    "import time\n",
    "import requests\n",
    "import lxml\n",
    "import urllib\n",
    "import urllib.request\n",
    "\n",
    "from pprint import pprint\n",
    "from bs4 import BeautifulSoup\n",
    "from tqdm import tqdm\n",
    "from getpass import getpass\n",
    "from urllib.parse import urljoin, urlparse"
   ]
  },
  {
   "cell_type": "markdown",
   "metadata": {
    "papermill": {
     "duration": 0.013995,
     "end_time": "2022-05-22T06:52:42.786072",
     "exception": false,
     "start_time": "2022-05-22T06:52:42.772077",
     "status": "completed"
    },
    "tags": []
   },
   "source": [
    "# Parse all websites of the Manga"
   ]
  },
  {
   "cell_type": "markdown",
   "metadata": {
    "papermill": {
     "duration": 0.012159,
     "end_time": "2022-05-22T06:52:42.811211",
     "exception": false,
     "start_time": "2022-05-22T06:52:42.799052",
     "status": "completed"
    },
    "tags": []
   },
   "source": [
    "## colored"
   ]
  },
  {
   "cell_type": "code",
   "execution_count": 2,
   "metadata": {
    "execution": {
     "iopub.execute_input": "2022-05-22T06:52:42.843192Z",
     "iopub.status.busy": "2022-05-22T06:52:42.842335Z",
     "iopub.status.idle": "2022-05-22T06:52:45.585886Z",
     "shell.execute_reply": "2022-05-22T06:52:45.586953Z",
     "shell.execute_reply.started": "2022-05-22T06:24:41.326535Z"
    },
    "papermill": {
     "duration": 2.763658,
     "end_time": "2022-05-22T06:52:45.587151",
     "exception": false,
     "start_time": "2022-05-22T06:52:42.823493",
     "status": "completed"
    },
    "tags": []
   },
   "outputs": [
    {
     "name": "stdout",
     "output_type": "stream",
     "text": [
      "988\n",
      "'https://ww9.readonepiece.com/chapter/one-piece-digital-colored-comics-chapter-1048'\n",
      "'https://ww9.readonepiece.com/chapter/one-piece-digital-colored-comics-chapter-001'\n"
     ]
    }
   ],
   "source": [
    "html_text = requests.get('https://ww9.readonepiece.com/manga/one-piece-digital-colored-comics/', 'r').text\n",
    "soup = BeautifulSoup(html_text, 'lxml')\n",
    "\n",
    "cl_chapters = soup.find_all('div', class_ = 'bg-bg-secondary p-3 rounded mb-3 shadow')\n",
    "cl_chapter_site = []\n",
    "for chapter in cl_chapters:\n",
    "    site = chapter.find('a', class_ = 'uppercase text-xs bg-text-success text-white font-bold py-1 px-2 rounded').attrs['href']\n",
    "    cl_chapter_site.append(site)\n",
    "\n",
    "# cl_chapter_site.sort()\n",
    "pprint(len(cl_chapter_site))\n",
    "pprint(cl_chapter_site[0])\n",
    "pprint(cl_chapter_site[-1])"
   ]
  },
  {
   "cell_type": "markdown",
   "metadata": {
    "papermill": {
     "duration": 0.012484,
     "end_time": "2022-05-22T06:52:45.614693",
     "exception": false,
     "start_time": "2022-05-22T06:52:45.602209",
     "status": "completed"
    },
    "tags": []
   },
   "source": [
    "## grayscale"
   ]
  },
  {
   "cell_type": "code",
   "execution_count": 3,
   "metadata": {
    "execution": {
     "iopub.execute_input": "2022-05-22T06:52:45.647673Z",
     "iopub.status.busy": "2022-05-22T06:52:45.647147Z",
     "iopub.status.idle": "2022-05-22T06:52:48.728195Z",
     "shell.execute_reply": "2022-05-22T06:52:48.727569Z",
     "shell.execute_reply.started": "2022-05-22T06:24:43.132546Z"
    },
    "papermill": {
     "duration": 3.101065,
     "end_time": "2022-05-22T06:52:48.728335",
     "exception": false,
     "start_time": "2022-05-22T06:52:45.627270",
     "status": "completed"
    },
    "tags": []
   },
   "outputs": [
    {
     "name": "stdout",
     "output_type": "stream",
     "text": [
      "1060\n",
      "'https://ww9.readonepiece.com/chapter/one-piece-chapter-1050'\n",
      "'https://ww9.readonepiece.com/chapter/one-piece-chapter-001'\n"
     ]
    }
   ],
   "source": [
    "html_text = requests.get('https://ww9.readonepiece.com/manga/one-piece/', 'r').text\n",
    "soup = BeautifulSoup(html_text, 'lxml')\n",
    "\n",
    "bw_chapters = soup.find_all('div', class_ = 'bg-bg-secondary p-3 rounded mb-3 shadow')\n",
    "bw_chapter_site = []\n",
    "for chapter in bw_chapters:\n",
    "    site = chapter.find('a', class_ = 'uppercase text-xs bg-text-success text-white font-bold py-1 px-2 rounded').attrs['href']\n",
    "    bw_chapter_site.append(site)\n",
    "\n",
    "# bw_chapter_site.sort()\n",
    "pprint(len(bw_chapter_site))\n",
    "pprint(bw_chapter_site[0])\n",
    "pprint(bw_chapter_site[-1])"
   ]
  },
  {
   "cell_type": "code",
   "execution_count": 4,
   "metadata": {
    "execution": {
     "iopub.execute_input": "2022-05-22T06:52:48.764345Z",
     "iopub.status.busy": "2022-05-22T06:52:48.763674Z",
     "iopub.status.idle": "2022-05-22T06:52:48.790133Z",
     "shell.execute_reply": "2022-05-22T06:52:48.789579Z",
     "shell.execute_reply.started": "2022-05-22T06:25:02.568445Z"
    },
    "papermill": {
     "duration": 0.048154,
     "end_time": "2022-05-22T06:52:48.790231",
     "exception": false,
     "start_time": "2022-05-22T06:52:48.742077",
     "status": "completed"
    },
    "tags": []
   },
   "outputs": [
    {
     "name": "stderr",
     "output_type": "stream",
     "text": [
      "colored, chapter 900 and above: 100%|██████████| 988/988 [00:00<00:00, 429204.80it/s]\n",
      "grayscale, chapter 900 and above: 100%|██████████| 1060/1060 [00:00<00:00, 341707.96it/s]\n"
     ]
    }
   ],
   "source": [
    "cl_chapters = []\n",
    "bw_chapters = []\n",
    "\n",
    "for i in tqdm(range(len(cl_chapter_site)), 'colored, chapter 900 and above'):\n",
    "    site = cl_chapter_site[i].replace('-', '0') \n",
    "\n",
    "    if (int(site[-3:None]) >= 900) or (int(site[-4:None]) >= 900):\n",
    "        cl_chapters.append(cl_chapter_site[i])\n",
    "        \n",
    "for j in tqdm(range(len(bw_chapter_site)), 'grayscale, chapter 900 and above'):\n",
    "    site = bw_chapter_site[j].replace('-', '0')\n",
    "    site = site.replace('.5', '')\n",
    "    site = site.replace('.1', '')\n",
    "\n",
    "    if (int(site[-3:None]) >= 900) or (int(site[-4:None]) >= 900):\n",
    "        bw_chapters.append(bw_chapter_site[j])\n",
    "        \n",
    "# cl_chapters.sort()\n",
    "# bw_chapters.sort()"
   ]
  },
  {
   "cell_type": "code",
   "execution_count": 5,
   "metadata": {
    "execution": {
     "iopub.execute_input": "2022-05-22T06:52:48.825795Z",
     "iopub.status.busy": "2022-05-22T06:52:48.824647Z",
     "iopub.status.idle": "2022-05-22T06:52:48.829882Z",
     "shell.execute_reply": "2022-05-22T06:52:48.829441Z",
     "shell.execute_reply.started": "2022-05-22T06:25:05.825583Z"
    },
    "papermill": {
     "duration": 0.024867,
     "end_time": "2022-05-22T06:52:48.829979",
     "exception": false,
     "start_time": "2022-05-22T06:52:48.805112",
     "status": "completed"
    },
    "tags": []
   },
   "outputs": [
    {
     "name": "stdout",
     "output_type": "stream",
     "text": [
      "89\n",
      "159\n",
      "['https://ww9.readonepiece.com/chapter/one-piece-digital-colored-comics-chapter-902',\n",
      " 'https://ww9.readonepiece.com/chapter/one-piece-digital-colored-comics-chapter-901',\n",
      " 'https://ww9.readonepiece.com/chapter/one-piece-digital-colored-comics-chapter-900']\n",
      "['https://ww9.readonepiece.com/chapter/one-piece-chapter-901',\n",
      " 'https://ww9.readonepiece.com/chapter/one-piece-chapter-900',\n",
      " 'https://ww9.readonepiece.com/chapter/one-piece-chapter-52-5']\n"
     ]
    }
   ],
   "source": [
    "pprint(len(cl_chapters))\n",
    "pprint(len(bw_chapters))\n",
    "\n",
    "pprint(cl_chapters[-3:None])\n",
    "pprint(bw_chapters[-3:None])"
   ]
  },
  {
   "cell_type": "markdown",
   "metadata": {
    "papermill": {
     "duration": 0.014748,
     "end_time": "2022-05-22T06:52:48.859455",
     "exception": false,
     "start_time": "2022-05-22T06:52:48.844707",
     "status": "completed"
    },
    "tags": []
   },
   "source": [
    "# Parsing all image urls from each chapter"
   ]
  },
  {
   "cell_type": "markdown",
   "metadata": {
    "papermill": {
     "duration": 0.01453,
     "end_time": "2022-05-22T06:52:48.889162",
     "exception": false,
     "start_time": "2022-05-22T06:52:48.874632",
     "status": "completed"
    },
    "tags": []
   },
   "source": [
    "## colored"
   ]
  },
  {
   "cell_type": "code",
   "execution_count": 6,
   "metadata": {
    "execution": {
     "iopub.execute_input": "2022-05-22T06:52:48.927045Z",
     "iopub.status.busy": "2022-05-22T06:52:48.926236Z",
     "iopub.status.idle": "2022-05-22T06:55:05.922158Z",
     "shell.execute_reply": "2022-05-22T06:55:05.921404Z",
     "shell.execute_reply.started": "2022-05-22T06:26:46.741545Z"
    },
    "papermill": {
     "duration": 137.018535,
     "end_time": "2022-05-22T06:55:05.922301",
     "exception": false,
     "start_time": "2022-05-22T06:52:48.903766",
     "status": "completed"
    },
    "tags": []
   },
   "outputs": [
    {
     "name": "stderr",
     "output_type": "stream",
     "text": [
      "extracting images: 100%|██████████| 89/89 [02:16<00:00,  1.54s/it]\n"
     ]
    }
   ],
   "source": [
    "cl = []\n",
    "for i in tqdm(range(len(cl_chapters)), \"extracting images\"):\n",
    "# for i in tqdm(range(1), \"extracting images\"):\n",
    "    cl_imgs = []\n",
    "    \n",
    "    html_text = requests.get(cl_chapters[i], 'r').text\n",
    "    soup = BeautifulSoup(html_text, 'lxml')\n",
    "\n",
    "    all_imgs = soup.find_all('div', class_ = 'text-center')\n",
    "    for img in all_imgs:\n",
    "        site = img.find(\"img\", class_ = 'mb-3 mx-auto js-page')\n",
    "        if site is not None:\n",
    "            cl_imgs.append(site['src'])\n",
    "            \n",
    "    cl = cl + cl_imgs[1:None]\n",
    "            \n",
    "#     pprint(cl_imgs)\n",
    "#     pprint(cl)\n",
    "#     raise ValueError(\"done\")"
   ]
  },
  {
   "cell_type": "code",
   "execution_count": 7,
   "metadata": {
    "execution": {
     "iopub.execute_input": "2022-05-22T06:55:06.009314Z",
     "iopub.status.busy": "2022-05-22T06:55:06.008608Z",
     "iopub.status.idle": "2022-05-22T06:55:06.012045Z",
     "shell.execute_reply": "2022-05-22T06:55:06.012668Z",
     "shell.execute_reply.started": "2022-05-22T06:27:45.525053Z"
    },
    "papermill": {
     "duration": 0.049327,
     "end_time": "2022-05-22T06:55:06.012825",
     "exception": false,
     "start_time": "2022-05-22T06:55:05.963498",
     "status": "completed"
    },
    "tags": []
   },
   "outputs": [
    {
     "name": "stdout",
     "output_type": "stream",
     "text": [
      "1461\n",
      "https://i.imgur.com/mRmn97e.jpeg\r\n"
     ]
    }
   ],
   "source": [
    "print(len(cl))\n",
    "print(cl[0])"
   ]
  },
  {
   "cell_type": "markdown",
   "metadata": {
    "papermill": {
     "duration": 0.040865,
     "end_time": "2022-05-22T06:55:06.096369",
     "exception": false,
     "start_time": "2022-05-22T06:55:06.055504",
     "status": "completed"
    },
    "tags": []
   },
   "source": [
    "## grayscale"
   ]
  },
  {
   "cell_type": "code",
   "execution_count": 8,
   "metadata": {
    "execution": {
     "iopub.execute_input": "2022-05-22T06:55:06.187584Z",
     "iopub.status.busy": "2022-05-22T06:55:06.186571Z",
     "iopub.status.idle": "2022-05-22T06:59:26.546406Z",
     "shell.execute_reply": "2022-05-22T06:59:26.547147Z",
     "shell.execute_reply.started": "2022-05-22T06:28:04.690991Z"
    },
    "papermill": {
     "duration": 260.408939,
     "end_time": "2022-05-22T06:59:26.547331",
     "exception": false,
     "start_time": "2022-05-22T06:55:06.138392",
     "status": "completed"
    },
    "tags": []
   },
   "outputs": [
    {
     "name": "stderr",
     "output_type": "stream",
     "text": [
      "extracting images: 100%|██████████| 159/159 [04:20<00:00,  1.64s/it]\n"
     ]
    }
   ],
   "source": [
    "bw = []\n",
    "for i in tqdm(range(len(bw_chapters)), \"extracting images\"):\n",
    "# for i in tqdm(range(1), \"extracting images\"):\n",
    "    bw_imgs = []\n",
    "    \n",
    "    html_text = requests.get(bw_chapters[i], 'r').text\n",
    "    soup = BeautifulSoup(html_text, 'lxml')\n",
    "\n",
    "    all_imgs = soup.find_all('div', class_ = 'text-center')\n",
    "    for img in all_imgs:\n",
    "        site = img.find(\"img\", class_ = 'mb-3 mx-auto js-page')\n",
    "        if site is not None:\n",
    "            bw_imgs.append(site['src'])    \n",
    "            \n",
    "    bw = bw + bw_imgs[1:None]"
   ]
  },
  {
   "cell_type": "code",
   "execution_count": 9,
   "metadata": {
    "execution": {
     "iopub.execute_input": "2022-05-22T06:59:26.725332Z",
     "iopub.status.busy": "2022-05-22T06:59:26.724644Z",
     "iopub.status.idle": "2022-05-22T06:59:26.727873Z",
     "shell.execute_reply": "2022-05-22T06:59:26.728288Z",
     "shell.execute_reply.started": "2022-05-22T06:29:48.232649Z"
    },
    "papermill": {
     "duration": 0.093678,
     "end_time": "2022-05-22T06:59:26.728425",
     "exception": false,
     "start_time": "2022-05-22T06:59:26.634747",
     "status": "completed"
    },
    "tags": []
   },
   "outputs": [
    {
     "name": "stdout",
     "output_type": "stream",
     "text": [
      "2679\n",
      "https://cdn.readonepiece.com/file/mangap/2/11049000/2.jpeg\r\n"
     ]
    }
   ],
   "source": [
    "print(len(bw))\n",
    "print(bw[0])"
   ]
  },
  {
   "cell_type": "markdown",
   "metadata": {
    "papermill": {
     "duration": 0.086787,
     "end_time": "2022-05-22T06:59:26.902668",
     "exception": false,
     "start_time": "2022-05-22T06:59:26.815881",
     "status": "completed"
    },
    "tags": []
   },
   "source": [
    "# Download the images"
   ]
  },
  {
   "cell_type": "markdown",
   "metadata": {
    "papermill": {
     "duration": 0.085888,
     "end_time": "2022-05-22T06:59:27.075755",
     "exception": false,
     "start_time": "2022-05-22T06:59:26.989867",
     "status": "completed"
    },
    "tags": []
   },
   "source": [
    "## colored"
   ]
  },
  {
   "cell_type": "code",
   "execution_count": 10,
   "metadata": {
    "execution": {
     "iopub.execute_input": "2022-05-22T06:59:27.257193Z",
     "iopub.status.busy": "2022-05-22T06:59:27.256308Z",
     "iopub.status.idle": "2022-05-22T07:06:24.774495Z",
     "shell.execute_reply": "2022-05-22T07:06:24.774017Z",
     "shell.execute_reply.started": "2022-05-22T06:29:54.615761Z"
    },
    "papermill": {
     "duration": 417.612436,
     "end_time": "2022-05-22T07:06:24.774606",
     "exception": false,
     "start_time": "2022-05-22T06:59:27.162170",
     "status": "completed"
    },
    "tags": []
   },
   "outputs": [
    {
     "name": "stderr",
     "output_type": "stream",
     "text": [
      "downloading images: 100%|██████████| 1461/1461 [06:57<00:00,  3.50it/s]\n"
     ]
    }
   ],
   "source": [
    "pathname = './colored'\n",
    "# if path doesn't exist, make that path dir\n",
    "if not os.path.isdir(pathname):\n",
    "    os.makedirs(pathname)\n",
    "    \n",
    "for i in tqdm(range(len(cl)), \"downloading images\"):\n",
    "    url = cl[i].replace('\\r', '')  \n",
    "#     url = 'https://cdn.readonepiece.com/file/mangap/3258/10900000/1.jpeg'\n",
    "    filename = os.path.join(pathname, str(i) + str('.png'))\n",
    "\n",
    "    response = requests.get(url)\n",
    "    if response.ok:    \n",
    "        with open(filename, 'wb') as f:\n",
    "                for block in response.iter_content(1024):\n",
    "                    if not block:\n",
    "                        break\n",
    "\n",
    "                    f.write(block)\n",
    "    else:\n",
    "        print(response)"
   ]
  },
  {
   "cell_type": "markdown",
   "metadata": {
    "papermill": {
     "duration": 0.504678,
     "end_time": "2022-05-22T07:06:25.775162",
     "exception": false,
     "start_time": "2022-05-22T07:06:25.270484",
     "status": "completed"
    },
    "tags": []
   },
   "source": [
    "## grayscale"
   ]
  },
  {
   "cell_type": "code",
   "execution_count": 11,
   "metadata": {
    "execution": {
     "iopub.execute_input": "2022-05-22T07:06:26.789827Z",
     "iopub.status.busy": "2022-05-22T07:06:26.788892Z",
     "iopub.status.idle": "2022-05-22T07:15:53.518965Z",
     "shell.execute_reply": "2022-05-22T07:15:53.518203Z",
     "shell.execute_reply.started": "2022-05-22T06:38:16.325846Z"
    },
    "papermill": {
     "duration": 567.233292,
     "end_time": "2022-05-22T07:15:53.519135",
     "exception": false,
     "start_time": "2022-05-22T07:06:26.285843",
     "status": "completed"
    },
    "tags": []
   },
   "outputs": [
    {
     "name": "stderr",
     "output_type": "stream",
     "text": [
      "downloading images: 100%|██████████| 2679/2679 [09:26<00:00,  4.73it/s]\n"
     ]
    }
   ],
   "source": [
    "pathname = './grayscale'\n",
    "# if path doesn't exist, make that path dir\n",
    "if not os.path.isdir(pathname):\n",
    "    os.makedirs(pathname)\n",
    "    \n",
    "for i in tqdm(range(len(bw)), \"downloading images\"):\n",
    "    url = bw[i].replace('\\r', '')\n",
    "    filename = os.path.join(pathname, str(i) + str('.png'))\n",
    "\n",
    "    response = requests.get(url)\n",
    "    if response.ok:    \n",
    "        with open(filename, 'wb') as f:\n",
    "                for block in response.iter_content(1024):\n",
    "                    if not block:\n",
    "                        break\n",
    "\n",
    "                    f.write(block)\n",
    "    else:\n",
    "        print(response)"
   ]
  },
  {
   "cell_type": "code",
   "execution_count": null,
   "metadata": {
    "papermill": {
     "duration": 1.539735,
     "end_time": "2022-05-22T07:15:56.545018",
     "exception": false,
     "start_time": "2022-05-22T07:15:55.005283",
     "status": "completed"
    },
    "tags": []
   },
   "outputs": [],
   "source": []
  }
 ],
 "metadata": {
  "kernelspec": {
   "display_name": "Python 3",
   "language": "python",
   "name": "python3"
  },
  "language_info": {
   "codemirror_mode": {
    "name": "ipython",
    "version": 3
   },
   "file_extension": ".py",
   "mimetype": "text/x-python",
   "name": "python",
   "nbconvert_exporter": "python",
   "pygments_lexer": "ipython3",
   "version": "3.7.6"
  },
  "papermill": {
   "duration": 1400.265065,
   "end_time": "2022-05-22T07:15:59.111216",
   "environment_variables": {},
   "exception": null,
   "input_path": "__notebook__.ipynb",
   "output_path": "__notebook__.ipynb",
   "parameters": {},
   "start_time": "2022-05-22T06:52:38.846151",
   "version": "2.1.0"
  }
 },
 "nbformat": 4,
 "nbformat_minor": 4
}
