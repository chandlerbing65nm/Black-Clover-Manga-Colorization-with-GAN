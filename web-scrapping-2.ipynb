{
 "cells": [
  {
   "cell_type": "markdown",
   "metadata": {
    "papermill": {
     "duration": 0.015569,
     "end_time": "2022-05-21T10:57:41.329021",
     "exception": false,
     "start_time": "2022-05-21T10:57:41.313452",
     "status": "completed"
    },
    "tags": []
   },
   "source": [
    "# Import Libraries"
   ]
  },
  {
   "cell_type": "code",
   "execution_count": 1,
   "metadata": {
    "execution": {
     "iopub.execute_input": "2022-05-21T10:57:41.366236Z",
     "iopub.status.busy": "2022-05-21T10:57:41.365285Z",
     "iopub.status.idle": "2022-05-21T10:57:41.617947Z",
     "shell.execute_reply": "2022-05-21T10:57:41.617254Z"
    },
    "papermill": {
     "duration": 0.275024,
     "end_time": "2022-05-21T10:57:41.618102",
     "exception": false,
     "start_time": "2022-05-21T10:57:41.343078",
     "status": "completed"
    },
    "tags": []
   },
   "outputs": [],
   "source": [
    "import os\n",
    "import numpy as np\n",
    "import bs4\n",
    "import requests\n",
    "import lxml\n",
    "\n",
    "from pprint import pprint\n",
    "from bs4 import BeautifulSoup\n",
    "from tqdm import tqdm\n",
    "from urllib.parse import urljoin, urlparse"
   ]
  },
  {
   "cell_type": "markdown",
   "metadata": {
    "papermill": {
     "duration": 0.012933,
     "end_time": "2022-05-21T10:57:41.645111",
     "exception": false,
     "start_time": "2022-05-21T10:57:41.632178",
     "status": "completed"
    },
    "tags": []
   },
   "source": [
    "# Parse all websites of the Manga"
   ]
  },
  {
   "cell_type": "markdown",
   "metadata": {
    "papermill": {
     "duration": 0.013076,
     "end_time": "2022-05-21T10:57:41.672020",
     "exception": false,
     "start_time": "2022-05-21T10:57:41.658944",
     "status": "completed"
    },
    "tags": []
   },
   "source": [
    "## colored"
   ]
  },
  {
   "cell_type": "code",
   "execution_count": 2,
   "metadata": {
    "execution": {
     "iopub.execute_input": "2022-05-21T10:57:41.709926Z",
     "iopub.status.busy": "2022-05-21T10:57:41.708950Z",
     "iopub.status.idle": "2022-05-21T10:57:43.579377Z",
     "shell.execute_reply": "2022-05-21T10:57:43.580262Z"
    },
    "papermill": {
     "duration": 1.893609,
     "end_time": "2022-05-21T10:57:43.580419",
     "exception": false,
     "start_time": "2022-05-21T10:57:41.686810",
     "status": "completed"
    },
    "tags": []
   },
   "outputs": [
    {
     "name": "stdout",
     "output_type": "stream",
     "text": [
      "988\n"
     ]
    }
   ],
   "source": [
    "html_text = requests.get('https://ww9.readonepiece.com/manga/one-piece-digital-colored-comics/', 'r').text\n",
    "soup = BeautifulSoup(html_text, 'lxml')\n",
    "\n",
    "cl_chapters = soup.find_all('div', class_ = 'bg-bg-secondary p-3 rounded mb-3 shadow')\n",
    "cl_chapter_site = []\n",
    "for chapter in cl_chapters:\n",
    "    site = chapter.find('a', class_ = 'uppercase text-xs bg-text-success text-white font-bold py-1 px-2 rounded').attrs['href']\n",
    "    cl_chapter_site.append(site)\n",
    "\n",
    "cl_chapter_site.sort()\n",
    "pprint(len(cl_chapter_site))"
   ]
  },
  {
   "cell_type": "markdown",
   "metadata": {
    "papermill": {
     "duration": 0.014357,
     "end_time": "2022-05-21T10:57:43.610718",
     "exception": false,
     "start_time": "2022-05-21T10:57:43.596361",
     "status": "completed"
    },
    "tags": []
   },
   "source": [
    "## grayscale"
   ]
  },
  {
   "cell_type": "code",
   "execution_count": 3,
   "metadata": {
    "execution": {
     "iopub.execute_input": "2022-05-21T10:57:43.649665Z",
     "iopub.status.busy": "2022-05-21T10:57:43.648877Z",
     "iopub.status.idle": "2022-05-21T10:57:45.477826Z",
     "shell.execute_reply": "2022-05-21T10:57:45.477081Z"
    },
    "papermill": {
     "duration": 1.853212,
     "end_time": "2022-05-21T10:57:45.477962",
     "exception": false,
     "start_time": "2022-05-21T10:57:43.624750",
     "status": "completed"
    },
    "tags": []
   },
   "outputs": [
    {
     "name": "stdout",
     "output_type": "stream",
     "text": [
      "1060\n"
     ]
    }
   ],
   "source": [
    "html_text = requests.get('https://ww9.readonepiece.com/manga/one-piece/', 'r').text\n",
    "soup = BeautifulSoup(html_text, 'lxml')\n",
    "\n",
    "bw_chapters = soup.find_all('div', class_ = 'bg-bg-secondary p-3 rounded mb-3 shadow')\n",
    "bw_chapter_site = []\n",
    "for chapter in bw_chapters:\n",
    "    site = chapter.find('a', class_ = 'uppercase text-xs bg-text-success text-white font-bold py-1 px-2 rounded').attrs['href']\n",
    "    bw_chapter_site.append(site)\n",
    "\n",
    "bw_chapter_site.sort()\n",
    "pprint(len(bw_chapter_site))"
   ]
  },
  {
   "cell_type": "code",
   "execution_count": 4,
   "metadata": {
    "execution": {
     "iopub.execute_input": "2022-05-21T10:57:45.514950Z",
     "iopub.status.busy": "2022-05-21T10:57:45.513962Z",
     "iopub.status.idle": "2022-05-21T10:57:46.023001Z",
     "shell.execute_reply": "2022-05-21T10:57:46.023580Z"
    },
    "papermill": {
     "duration": 0.53104,
     "end_time": "2022-05-21T10:57:46.023773",
     "exception": false,
     "start_time": "2022-05-21T10:57:45.492733",
     "status": "completed"
    },
    "tags": []
   },
   "outputs": [
    {
     "name": "stderr",
     "output_type": "stream",
     "text": [
      "100%|██████████| 988/988 [00:00<00:00, 2020.43it/s]\n"
     ]
    }
   ],
   "source": [
    "cl_chapters = []\n",
    "bw_chapters = []\n",
    "for i in tqdm(range(len(cl_chapter_site))):\n",
    "    for j in range(len(bw_chapter_site)):\n",
    "        if cl_chapter_site[i][-3:None] == bw_chapter_site[j][-3:None]:\n",
    "            cl_chapters.append(cl_chapter_site[i])\n",
    "            bw_chapters.append(bw_chapter_site[j])\n",
    "        \n",
    "cl_chapters.sort()\n",
    "bw_chapters.sort()"
   ]
  },
  {
   "cell_type": "code",
   "execution_count": 5,
   "metadata": {
    "execution": {
     "iopub.execute_input": "2022-05-21T10:57:46.068512Z",
     "iopub.status.busy": "2022-05-21T10:57:46.067281Z",
     "iopub.status.idle": "2022-05-21T10:57:46.076787Z",
     "shell.execute_reply": "2022-05-21T10:57:46.076133Z"
    },
    "papermill": {
     "duration": 0.035141,
     "end_time": "2022-05-21T10:57:46.076901",
     "exception": false,
     "start_time": "2022-05-21T10:57:46.041760",
     "status": "completed"
    },
    "tags": []
   },
   "outputs": [
    {
     "name": "stdout",
     "output_type": "stream",
     "text": [
      "1062\n",
      "1062\n",
      "['https://ww9.readonepiece.com/chapter/one-piece-digital-colored-comics-chapter-962',\n",
      " 'https://ww9.readonepiece.com/chapter/one-piece-digital-colored-comics-chapter-963',\n",
      " 'https://ww9.readonepiece.com/chapter/one-piece-digital-colored-comics-chapter-964']\n",
      "['https://ww9.readonepiece.com/chapter/one-piece-chapter-962',\n",
      " 'https://ww9.readonepiece.com/chapter/one-piece-chapter-963',\n",
      " 'https://ww9.readonepiece.com/chapter/one-piece-chapter-964']\n"
     ]
    }
   ],
   "source": [
    "pprint(len(cl_chapters))\n",
    "pprint(len(bw_chapters))\n",
    "\n",
    "pprint(cl_chapters[-3:None])\n",
    "pprint(bw_chapters[-3:None])"
   ]
  },
  {
   "cell_type": "markdown",
   "metadata": {
    "papermill": {
     "duration": 0.017775,
     "end_time": "2022-05-21T10:57:46.113206",
     "exception": false,
     "start_time": "2022-05-21T10:57:46.095431",
     "status": "completed"
    },
    "tags": []
   },
   "source": [
    "# Parsing all image urls from each chapter"
   ]
  },
  {
   "cell_type": "markdown",
   "metadata": {
    "papermill": {
     "duration": 0.022009,
     "end_time": "2022-05-21T10:57:46.153591",
     "exception": false,
     "start_time": "2022-05-21T10:57:46.131582",
     "status": "completed"
    },
    "tags": []
   },
   "source": [
    "## colored"
   ]
  },
  {
   "cell_type": "code",
   "execution_count": 6,
   "metadata": {
    "execution": {
     "iopub.execute_input": "2022-05-21T10:57:46.241081Z",
     "iopub.status.busy": "2022-05-21T10:57:46.239921Z",
     "iopub.status.idle": "2022-05-21T11:09:24.663109Z",
     "shell.execute_reply": "2022-05-21T11:09:24.662425Z"
    },
    "papermill": {
     "duration": 698.474913,
     "end_time": "2022-05-21T11:09:24.663235",
     "exception": false,
     "start_time": "2022-05-21T10:57:46.188322",
     "status": "completed"
    },
    "tags": []
   },
   "outputs": [
    {
     "name": "stderr",
     "output_type": "stream",
     "text": [
      "extracting images: 100%|██████████| 1062/1062 [11:38<00:00,  1.52it/s]\n"
     ]
    }
   ],
   "source": [
    "cl = []\n",
    "for i in tqdm(range(len(cl_chapters)), \"extracting images\"):\n",
    "    cl_imgs = []\n",
    "    \n",
    "    html_text = requests.get(cl_chapters[i], 'r').text\n",
    "    soup = BeautifulSoup(html_text, 'lxml')\n",
    "\n",
    "    all_imgs = soup.find_all('div', class_ = 'text-center')\n",
    "    for img in all_imgs:\n",
    "        site = img.find(\"img\", class_ = 'mb-3 mx-auto js-page')\n",
    "        if site is not None:\n",
    "            cl_imgs.append(site['src'])\n",
    "            \n",
    "    cl = cl + cl_imgs\n",
    "            \n",
    "#     pprint(cl_imgs)\n",
    "#     pprint(cl)\n",
    "#     raise ValueError(\"done\")"
   ]
  },
  {
   "cell_type": "code",
   "execution_count": 7,
   "metadata": {
    "execution": {
     "iopub.execute_input": "2022-05-21T11:09:25.480308Z",
     "iopub.status.busy": "2022-05-21T11:09:25.479473Z",
     "iopub.status.idle": "2022-05-21T11:09:25.483550Z",
     "shell.execute_reply": "2022-05-21T11:09:25.484195Z"
    },
    "papermill": {
     "duration": 0.402741,
     "end_time": "2022-05-21T11:09:25.484347",
     "exception": false,
     "start_time": "2022-05-21T11:09:25.081606",
     "status": "completed"
    },
    "tags": []
   },
   "outputs": [
    {
     "name": "stdout",
     "output_type": "stream",
     "text": [
      "20140\n"
     ]
    }
   ],
   "source": [
    "print(len(cl))"
   ]
  },
  {
   "cell_type": "markdown",
   "metadata": {
    "papermill": {
     "duration": 0.381191,
     "end_time": "2022-05-21T11:09:26.249143",
     "exception": false,
     "start_time": "2022-05-21T11:09:25.867952",
     "status": "completed"
    },
    "tags": []
   },
   "source": [
    "## grayscale"
   ]
  },
  {
   "cell_type": "code",
   "execution_count": 8,
   "metadata": {
    "execution": {
     "iopub.execute_input": "2022-05-21T11:09:27.046048Z",
     "iopub.status.busy": "2022-05-21T11:09:27.043724Z",
     "iopub.status.idle": "2022-05-21T11:21:22.700063Z",
     "shell.execute_reply": "2022-05-21T11:21:22.696162Z"
    },
    "papermill": {
     "duration": 716.053212,
     "end_time": "2022-05-21T11:21:22.700446",
     "exception": false,
     "start_time": "2022-05-21T11:09:26.647234",
     "status": "completed"
    },
    "tags": []
   },
   "outputs": [
    {
     "name": "stderr",
     "output_type": "stream",
     "text": [
      "extracting images: 100%|██████████| 1062/1062 [11:55<00:00,  1.48it/s]\n"
     ]
    }
   ],
   "source": [
    "bw = []\n",
    "for i in tqdm(range(len(bw_chapters)), \"extracting images\"):\n",
    "    bw_imgs = []\n",
    "    \n",
    "    html_text = requests.get(bw_chapters[i], 'r').text\n",
    "    soup = BeautifulSoup(html_text, 'lxml')\n",
    "\n",
    "    all_imgs = soup.find_all('div', class_ = 'text-center')\n",
    "    for img in all_imgs:\n",
    "        site = img.find(\"img\", class_ = 'mb-3 mx-auto js-page')\n",
    "        if site is not None:\n",
    "            bw_imgs.append(site['src'])    \n",
    "            \n",
    "    bw = bw + bw_imgs"
   ]
  },
  {
   "cell_type": "code",
   "execution_count": 9,
   "metadata": {
    "execution": {
     "iopub.execute_input": "2022-05-21T11:21:24.221379Z",
     "iopub.status.busy": "2022-05-21T11:21:24.219837Z",
     "iopub.status.idle": "2022-05-21T11:21:24.225401Z",
     "shell.execute_reply": "2022-05-21T11:21:24.226338Z"
    },
    "papermill": {
     "duration": 0.776839,
     "end_time": "2022-05-21T11:21:24.226645",
     "exception": false,
     "start_time": "2022-05-21T11:21:23.449806",
     "status": "completed"
    },
    "tags": []
   },
   "outputs": [
    {
     "name": "stdout",
     "output_type": "stream",
     "text": [
      "20204\n"
     ]
    }
   ],
   "source": [
    "print(len(bw))"
   ]
  },
  {
   "cell_type": "markdown",
   "metadata": {
    "papermill": {
     "duration": 1.811346,
     "end_time": "2022-05-21T11:21:26.917228",
     "exception": false,
     "start_time": "2022-05-21T11:21:25.105882",
     "status": "completed"
    },
    "tags": []
   },
   "source": [
    "# Download the images"
   ]
  },
  {
   "cell_type": "code",
   "execution_count": 10,
   "metadata": {
    "execution": {
     "iopub.execute_input": "2022-05-21T11:21:28.707816Z",
     "iopub.status.busy": "2022-05-21T11:21:28.706622Z",
     "iopub.status.idle": "2022-05-21T11:21:28.710099Z",
     "shell.execute_reply": "2022-05-21T11:21:28.710998Z"
    },
    "papermill": {
     "duration": 0.887994,
     "end_time": "2022-05-21T11:21:28.711234",
     "exception": false,
     "start_time": "2022-05-21T11:21:27.823240",
     "status": "completed"
    },
    "tags": []
   },
   "outputs": [],
   "source": [
    "# def download(url, pathname):\n",
    "#     url = url.replace('\\r', '')\n",
    "    \n",
    "#     # if path doesn't exist, make that path dir\n",
    "#     if not os.path.isdir(pathname):\n",
    "#         os.makedirs(pathname)\n",
    "\n",
    "#     filename = os.path.join(pathname, url.split(\"/\")[-1])\n",
    "#     with open(filename, \"wb\") as f:\n",
    "#         f.write(requests.get(url).content)"
   ]
  },
  {
   "cell_type": "markdown",
   "metadata": {
    "papermill": {
     "duration": 0.813444,
     "end_time": "2022-05-21T11:21:30.393400",
     "exception": false,
     "start_time": "2022-05-21T11:21:29.579956",
     "status": "completed"
    },
    "tags": []
   },
   "source": [
    "## colored"
   ]
  },
  {
   "cell_type": "code",
   "execution_count": 11,
   "metadata": {
    "execution": {
     "iopub.execute_input": "2022-05-21T11:21:31.884588Z",
     "iopub.status.busy": "2022-05-21T11:21:31.883375Z",
     "iopub.status.idle": "2022-05-21T12:18:23.904245Z",
     "shell.execute_reply": "2022-05-21T12:18:23.902188Z"
    },
    "papermill": {
     "duration": 3412.761461,
     "end_time": "2022-05-21T12:18:23.904557",
     "exception": false,
     "start_time": "2022-05-21T11:21:31.143096",
     "status": "completed"
    },
    "tags": []
   },
   "outputs": [
    {
     "name": "stderr",
     "output_type": "stream",
     "text": [
      "downloading images: 100%|██████████| 20140/20140 [56:44<00:00,  5.92it/s]\n"
     ]
    }
   ],
   "source": [
    "pathname = './colored'\n",
    "# if path doesn't exist, make that path dir\n",
    "if not os.path.isdir(pathname):\n",
    "    os.makedirs(pathname)\n",
    "    \n",
    "for i in tqdm(range(len(cl)), \"downloading images\"):\n",
    "    url = cl[i].replace('\\r', '')\n",
    "        \n",
    "    filename = os.path.join(pathname, str(i) + str('.png'))\n",
    "    \n",
    "    with open(filename, \"wb\") as f:\n",
    "        f.write(requests.get(url).content)"
   ]
  },
  {
   "cell_type": "markdown",
   "metadata": {
    "papermill": {
     "duration": 8.041889,
     "end_time": "2022-05-21T12:18:40.942512",
     "exception": false,
     "start_time": "2022-05-21T12:18:32.900623",
     "status": "completed"
    },
    "tags": []
   },
   "source": [
    "## grayscale"
   ]
  },
  {
   "cell_type": "code",
   "execution_count": 12,
   "metadata": {
    "execution": {
     "iopub.execute_input": "2022-05-21T12:18:56.727973Z",
     "iopub.status.busy": "2022-05-21T12:18:56.726616Z",
     "iopub.status.idle": "2022-05-21T13:43:21.806510Z",
     "shell.execute_reply": "2022-05-21T13:43:21.749450Z"
    },
    "papermill": {
     "duration": 5072.813419,
     "end_time": "2022-05-21T13:43:21.807254",
     "exception": false,
     "start_time": "2022-05-21T12:18:48.993835",
     "status": "completed"
    },
    "tags": []
   },
   "outputs": [
    {
     "name": "stderr",
     "output_type": "stream",
     "text": [
      "downloading images: 100%|██████████| 20204/20204 [1:24:17<00:00,  4.00it/s]\n"
     ]
    }
   ],
   "source": [
    "pathname = './grayscale'\n",
    "# if path doesn't exist, make that path dir\n",
    "if not os.path.isdir(pathname):\n",
    "    os.makedirs(pathname)\n",
    "    \n",
    "for i in tqdm(range(len(bw)), \"downloading images\"):\n",
    "    url = bw[i].replace('\\r', '')\n",
    "    \n",
    "    filename = os.path.join(pathname, str(i) + str('.png'))\n",
    "    \n",
    "    with open(filename, \"wb\") as f:\n",
    "        f.write(requests.get(url).content)"
   ]
  },
  {
   "cell_type": "code",
   "execution_count": null,
   "metadata": {
    "papermill": {
     "duration": 15.57995,
     "end_time": "2022-05-21T13:43:53.296696",
     "exception": false,
     "start_time": "2022-05-21T13:43:37.716746",
     "status": "completed"
    },
    "tags": []
   },
   "outputs": [],
   "source": []
  }
 ],
 "metadata": {
  "kernelspec": {
   "display_name": "Python 3",
   "language": "python",
   "name": "python3"
  },
  "language_info": {
   "codemirror_mode": {
    "name": "ipython",
    "version": 3
   },
   "file_extension": ".py",
   "mimetype": "text/x-python",
   "name": "python",
   "nbconvert_exporter": "python",
   "pygments_lexer": "ipython3",
   "version": "3.7.6"
  },
  "papermill": {
   "duration": 9992.308705,
   "end_time": "2022-05-21T13:44:09.257470",
   "environment_variables": {},
   "exception": null,
   "input_path": "__notebook__.ipynb",
   "output_path": "__notebook__.ipynb",
   "parameters": {},
   "start_time": "2022-05-21T10:57:36.948765",
   "version": "2.1.0"
  }
 },
 "nbformat": 4,
 "nbformat_minor": 4
}
