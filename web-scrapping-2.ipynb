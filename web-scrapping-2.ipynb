{
 "cells": [
  {
   "cell_type": "markdown",
   "metadata": {
    "papermill": {
     "duration": 0.013383,
     "end_time": "2022-05-21T19:31:21.459335",
     "exception": false,
     "start_time": "2022-05-21T19:31:21.445952",
     "status": "completed"
    },
    "tags": []
   },
   "source": [
    "# Import Libraries"
   ]
  },
  {
   "cell_type": "code",
   "execution_count": 1,
   "metadata": {
    "execution": {
     "iopub.execute_input": "2022-05-21T19:31:21.489804Z",
     "iopub.status.busy": "2022-05-21T19:31:21.489014Z",
     "iopub.status.idle": "2022-05-21T19:31:21.705426Z",
     "shell.execute_reply": "2022-05-21T19:31:21.704908Z",
     "shell.execute_reply.started": "2022-05-21T19:28:35.446464Z"
    },
    "papermill": {
     "duration": 0.233837,
     "end_time": "2022-05-21T19:31:21.705540",
     "exception": false,
     "start_time": "2022-05-21T19:31:21.471703",
     "status": "completed"
    },
    "tags": []
   },
   "outputs": [],
   "source": [
    "import os\n",
    "import numpy as np\n",
    "import bs4\n",
    "import requests\n",
    "import lxml\n",
    "import urllib\n",
    "import urllib.request\n",
    "\n",
    "from pprint import pprint\n",
    "from bs4 import BeautifulSoup\n",
    "from tqdm import tqdm\n",
    "from getpass import getpass\n",
    "from urllib.parse import urljoin, urlparse"
   ]
  },
  {
   "cell_type": "markdown",
   "metadata": {
    "papermill": {
     "duration": 0.013242,
     "end_time": "2022-05-21T19:31:21.731112",
     "exception": false,
     "start_time": "2022-05-21T19:31:21.717870",
     "status": "completed"
    },
    "tags": []
   },
   "source": [
    "# Parse all websites of the Manga"
   ]
  },
  {
   "cell_type": "markdown",
   "metadata": {
    "papermill": {
     "duration": 0.011676,
     "end_time": "2022-05-21T19:31:21.754803",
     "exception": false,
     "start_time": "2022-05-21T19:31:21.743127",
     "status": "completed"
    },
    "tags": []
   },
   "source": [
    "## colored"
   ]
  },
  {
   "cell_type": "code",
   "execution_count": 2,
   "metadata": {
    "execution": {
     "iopub.execute_input": "2022-05-21T19:31:21.785198Z",
     "iopub.status.busy": "2022-05-21T19:31:21.784387Z",
     "iopub.status.idle": "2022-05-21T19:31:23.460614Z",
     "shell.execute_reply": "2022-05-21T19:31:23.460124Z",
     "shell.execute_reply.started": "2022-05-21T19:28:35.734255Z"
    },
    "papermill": {
     "duration": 1.694,
     "end_time": "2022-05-21T19:31:23.460731",
     "exception": false,
     "start_time": "2022-05-21T19:31:21.766731",
     "status": "completed"
    },
    "tags": []
   },
   "outputs": [
    {
     "name": "stdout",
     "output_type": "stream",
     "text": [
      "988\n"
     ]
    }
   ],
   "source": [
    "html_text = requests.get('https://ww9.readonepiece.com/manga/one-piece-digital-colored-comics/', 'r').text\n",
    "soup = BeautifulSoup(html_text, 'lxml')\n",
    "\n",
    "cl_chapters = soup.find_all('div', class_ = 'bg-bg-secondary p-3 rounded mb-3 shadow')\n",
    "cl_chapter_site = []\n",
    "for chapter in cl_chapters:\n",
    "    site = chapter.find('a', class_ = 'uppercase text-xs bg-text-success text-white font-bold py-1 px-2 rounded').attrs['href']\n",
    "    cl_chapter_site.append(site)\n",
    "\n",
    "cl_chapter_site.sort()\n",
    "pprint(len(cl_chapter_site))"
   ]
  },
  {
   "cell_type": "markdown",
   "metadata": {
    "papermill": {
     "duration": 0.012971,
     "end_time": "2022-05-21T19:31:23.487171",
     "exception": false,
     "start_time": "2022-05-21T19:31:23.474200",
     "status": "completed"
    },
    "tags": []
   },
   "source": [
    "## grayscale"
   ]
  },
  {
   "cell_type": "code",
   "execution_count": 3,
   "metadata": {
    "execution": {
     "iopub.execute_input": "2022-05-21T19:31:23.519769Z",
     "iopub.status.busy": "2022-05-21T19:31:23.519191Z",
     "iopub.status.idle": "2022-05-21T19:31:25.377106Z",
     "shell.execute_reply": "2022-05-21T19:31:25.376626Z",
     "shell.execute_reply.started": "2022-05-21T19:28:38.538367Z"
    },
    "papermill": {
     "duration": 1.877591,
     "end_time": "2022-05-21T19:31:25.377216",
     "exception": false,
     "start_time": "2022-05-21T19:31:23.499625",
     "status": "completed"
    },
    "tags": []
   },
   "outputs": [
    {
     "name": "stdout",
     "output_type": "stream",
     "text": [
      "1060\n"
     ]
    }
   ],
   "source": [
    "html_text = requests.get('https://ww9.readonepiece.com/manga/one-piece/', 'r').text\n",
    "soup = BeautifulSoup(html_text, 'lxml')\n",
    "\n",
    "bw_chapters = soup.find_all('div', class_ = 'bg-bg-secondary p-3 rounded mb-3 shadow')\n",
    "bw_chapter_site = []\n",
    "for chapter in bw_chapters:\n",
    "    site = chapter.find('a', class_ = 'uppercase text-xs bg-text-success text-white font-bold py-1 px-2 rounded').attrs['href']\n",
    "    bw_chapter_site.append(site)\n",
    "\n",
    "bw_chapter_site.sort()\n",
    "pprint(len(bw_chapter_site))"
   ]
  },
  {
   "cell_type": "code",
   "execution_count": 4,
   "metadata": {
    "execution": {
     "iopub.execute_input": "2022-05-21T19:31:25.407930Z",
     "iopub.status.busy": "2022-05-21T19:31:25.407174Z",
     "iopub.status.idle": "2022-05-21T19:31:25.410272Z",
     "shell.execute_reply": "2022-05-21T19:31:25.409845Z",
     "shell.execute_reply.started": "2022-05-21T19:28:41.407655Z"
    },
    "papermill": {
     "duration": 0.019946,
     "end_time": "2022-05-21T19:31:25.410366",
     "exception": false,
     "start_time": "2022-05-21T19:31:25.390420",
     "status": "completed"
    },
    "tags": []
   },
   "outputs": [],
   "source": [
    "cl_chapters = cl_chapter_site\n",
    "bw_chapters = bw_chapter_site\n",
    "# for i in tqdm(range(len(cl_chapter_site))):\n",
    "#     for j in range(len(bw_chapter_site)):\n",
    "#         if cl_chapter_site[i][-3:None] == bw_chapter_site[j][-3:None]:\n",
    "#             cl_chapters.append(cl_chapter_site[i])\n",
    "#             bw_chapters.append(bw_chapter_site[j])\n",
    "        \n",
    "cl_chapters.sort()\n",
    "bw_chapters.sort()"
   ]
  },
  {
   "cell_type": "code",
   "execution_count": 5,
   "metadata": {
    "execution": {
     "iopub.execute_input": "2022-05-21T19:31:25.442016Z",
     "iopub.status.busy": "2022-05-21T19:31:25.441183Z",
     "iopub.status.idle": "2022-05-21T19:31:25.446190Z",
     "shell.execute_reply": "2022-05-21T19:31:25.446947Z",
     "shell.execute_reply.started": "2022-05-21T19:28:41.414811Z"
    },
    "papermill": {
     "duration": 0.023967,
     "end_time": "2022-05-21T19:31:25.447100",
     "exception": false,
     "start_time": "2022-05-21T19:31:25.423133",
     "status": "completed"
    },
    "tags": []
   },
   "outputs": [
    {
     "name": "stdout",
     "output_type": "stream",
     "text": [
      "988\n",
      "1060\n",
      "['https://ww9.readonepiece.com/chapter/one-piece-digital-colored-comics-chapter-962',\n",
      " 'https://ww9.readonepiece.com/chapter/one-piece-digital-colored-comics-chapter-963',\n",
      " 'https://ww9.readonepiece.com/chapter/one-piece-digital-colored-comics-chapter-964']\n",
      "['https://ww9.readonepiece.com/chapter/one-piece-chapter-997',\n",
      " 'https://ww9.readonepiece.com/chapter/one-piece-chapter-998',\n",
      " 'https://ww9.readonepiece.com/chapter/one-piece-chapter-999']\n"
     ]
    }
   ],
   "source": [
    "pprint(len(cl_chapters))\n",
    "pprint(len(bw_chapters))\n",
    "\n",
    "pprint(cl_chapters[-3:None])\n",
    "pprint(bw_chapters[-3:None])"
   ]
  },
  {
   "cell_type": "markdown",
   "metadata": {
    "papermill": {
     "duration": 0.012743,
     "end_time": "2022-05-21T19:31:25.473045",
     "exception": false,
     "start_time": "2022-05-21T19:31:25.460302",
     "status": "completed"
    },
    "tags": []
   },
   "source": [
    "# Parsing all image urls from each chapter"
   ]
  },
  {
   "cell_type": "markdown",
   "metadata": {
    "papermill": {
     "duration": 0.013289,
     "end_time": "2022-05-21T19:31:25.499382",
     "exception": false,
     "start_time": "2022-05-21T19:31:25.486093",
     "status": "completed"
    },
    "tags": []
   },
   "source": [
    "## colored"
   ]
  },
  {
   "cell_type": "code",
   "execution_count": 6,
   "metadata": {
    "execution": {
     "iopub.execute_input": "2022-05-21T19:31:25.532980Z",
     "iopub.status.busy": "2022-05-21T19:31:25.532290Z",
     "iopub.status.idle": "2022-05-21T19:31:32.339003Z",
     "shell.execute_reply": "2022-05-21T19:31:32.339423Z",
     "shell.execute_reply.started": "2022-05-21T19:28:41.428435Z"
    },
    "papermill": {
     "duration": 6.826843,
     "end_time": "2022-05-21T19:31:32.339544",
     "exception": false,
     "start_time": "2022-05-21T19:31:25.512701",
     "status": "completed"
    },
    "tags": []
   },
   "outputs": [
    {
     "name": "stderr",
     "output_type": "stream",
     "text": [
      "extracting images: 100%|██████████| 10/10 [00:06<00:00,  1.47it/s]\n"
     ]
    }
   ],
   "source": [
    "cl = []\n",
    "# for i in tqdm(range(len(cl_chapters)), \"extracting images\"):\n",
    "for i in tqdm(range(10), \"extracting images\"):\n",
    "    cl_imgs = []\n",
    "    \n",
    "    html_text = requests.get(cl_chapters[i], 'r').text\n",
    "    soup = BeautifulSoup(html_text, 'lxml')\n",
    "\n",
    "    all_imgs = soup.find_all('div', class_ = 'text-center')\n",
    "    for img in all_imgs:\n",
    "        site = img.find(\"img\", class_ = 'mb-3 mx-auto js-page')\n",
    "        if site is not None:\n",
    "            cl_imgs.append(site['src'])\n",
    "            \n",
    "    cl = cl + cl_imgs\n",
    "            \n",
    "#     pprint(cl_imgs)\n",
    "#     pprint(cl)\n",
    "#     raise ValueError(\"done\")"
   ]
  },
  {
   "cell_type": "code",
   "execution_count": 7,
   "metadata": {
    "execution": {
     "iopub.execute_input": "2022-05-21T19:31:32.377663Z",
     "iopub.status.busy": "2022-05-21T19:31:32.376957Z",
     "iopub.status.idle": "2022-05-21T19:31:32.379961Z",
     "shell.execute_reply": "2022-05-21T19:31:32.380496Z",
     "shell.execute_reply.started": "2022-05-21T19:28:59.752904Z"
    },
    "papermill": {
     "duration": 0.024598,
     "end_time": "2022-05-21T19:31:32.380623",
     "exception": false,
     "start_time": "2022-05-21T19:31:32.356025",
     "status": "completed"
    },
    "tags": []
   },
   "outputs": [
    {
     "name": "stdout",
     "output_type": "stream",
     "text": [
      "247\n",
      "https://img.mghubcdn.com/file/imghub/one-piece-colored/10/24.jpg\n"
     ]
    }
   ],
   "source": [
    "print(len(cl))\n",
    "print(cl[-1])"
   ]
  },
  {
   "cell_type": "markdown",
   "metadata": {
    "papermill": {
     "duration": 0.016662,
     "end_time": "2022-05-21T19:31:32.413801",
     "exception": false,
     "start_time": "2022-05-21T19:31:32.397139",
     "status": "completed"
    },
    "tags": []
   },
   "source": [
    "## grayscale"
   ]
  },
  {
   "cell_type": "code",
   "execution_count": 8,
   "metadata": {
    "execution": {
     "iopub.execute_input": "2022-05-21T19:31:32.454553Z",
     "iopub.status.busy": "2022-05-21T19:31:32.453770Z",
     "iopub.status.idle": "2022-05-21T19:31:39.223623Z",
     "shell.execute_reply": "2022-05-21T19:31:39.224638Z",
     "shell.execute_reply.started": "2022-05-21T19:28:59.761483Z"
    },
    "papermill": {
     "duration": 6.794256,
     "end_time": "2022-05-21T19:31:39.224815",
     "exception": false,
     "start_time": "2022-05-21T19:31:32.430559",
     "status": "completed"
    },
    "tags": []
   },
   "outputs": [
    {
     "name": "stderr",
     "output_type": "stream",
     "text": [
      "extracting images: 100%|██████████| 10/10 [00:06<00:00,  1.48it/s]\n"
     ]
    }
   ],
   "source": [
    "bw = []\n",
    "# for i in tqdm(range(len(bw_chapters)), \"extracting images\"):\n",
    "for i in tqdm(range(10), \"extracting images\"):\n",
    "    bw_imgs = []\n",
    "    \n",
    "    html_text = requests.get(bw_chapters[i], 'r').text\n",
    "    soup = BeautifulSoup(html_text, 'lxml')\n",
    "\n",
    "    all_imgs = soup.find_all('div', class_ = 'text-center')\n",
    "    for img in all_imgs:\n",
    "        site = img.find(\"img\", class_ = 'mb-3 mx-auto js-page')\n",
    "        if site is not None:\n",
    "            bw_imgs.append(site['src'])    \n",
    "            \n",
    "    bw = bw + bw_imgs"
   ]
  },
  {
   "cell_type": "code",
   "execution_count": 9,
   "metadata": {
    "execution": {
     "iopub.execute_input": "2022-05-21T19:31:39.306130Z",
     "iopub.status.busy": "2022-05-21T19:31:39.305212Z",
     "iopub.status.idle": "2022-05-21T19:31:39.309102Z",
     "shell.execute_reply": "2022-05-21T19:31:39.307087Z",
     "shell.execute_reply.started": "2022-05-21T19:29:15.941083Z"
    },
    "papermill": {
     "duration": 0.048068,
     "end_time": "2022-05-21T19:31:39.309240",
     "exception": false,
     "start_time": "2022-05-21T19:31:39.261172",
     "status": "completed"
    },
    "tags": []
   },
   "outputs": [
    {
     "name": "stdout",
     "output_type": "stream",
     "text": [
      "260\n",
      "https://cdn.readonepiece.com/file/mangap/2/10001000/1.jpeg\n"
     ]
    }
   ],
   "source": [
    "print(len(bw))\n",
    "print(bw[0])"
   ]
  },
  {
   "cell_type": "markdown",
   "metadata": {
    "papermill": {
     "duration": 0.032483,
     "end_time": "2022-05-21T19:31:39.376532",
     "exception": false,
     "start_time": "2022-05-21T19:31:39.344049",
     "status": "completed"
    },
    "tags": []
   },
   "source": [
    "# Download the images"
   ]
  },
  {
   "cell_type": "markdown",
   "metadata": {
    "papermill": {
     "duration": 0.022764,
     "end_time": "2022-05-21T19:31:39.427963",
     "exception": false,
     "start_time": "2022-05-21T19:31:39.405199",
     "status": "completed"
    },
    "tags": []
   },
   "source": [
    "## colored"
   ]
  },
  {
   "cell_type": "code",
   "execution_count": 10,
   "metadata": {
    "execution": {
     "iopub.execute_input": "2022-05-21T19:31:39.481918Z",
     "iopub.status.busy": "2022-05-21T19:31:39.480965Z",
     "iopub.status.idle": "2022-05-21T19:32:13.593812Z",
     "shell.execute_reply": "2022-05-21T19:32:13.594247Z",
     "shell.execute_reply.started": "2022-05-21T19:29:40.115546Z"
    },
    "papermill": {
     "duration": 34.144051,
     "end_time": "2022-05-21T19:32:13.594384",
     "exception": false,
     "start_time": "2022-05-21T19:31:39.450333",
     "status": "completed"
    },
    "tags": []
   },
   "outputs": [
    {
     "name": "stderr",
     "output_type": "stream",
     "text": [
      "downloading images: 100%|██████████| 247/247 [00:34<00:00,  7.24it/s]\n"
     ]
    }
   ],
   "source": [
    "pathname = './colored'\n",
    "# if path doesn't exist, make that path dir\n",
    "if not os.path.isdir(pathname):\n",
    "    os.makedirs(pathname)\n",
    "    \n",
    "for i in tqdm(range(len(cl)), \"downloading images\"):\n",
    "    url = cl[i].replace('\\r', '')   \n",
    "    filename = os.path.join(pathname, str(i) + str('.png'))\n",
    "  \n",
    "    response = requests.get(url)\n",
    "    if response.ok:    \n",
    "        with open(filename, 'wb') as f:\n",
    "                for block in response.iter_content(1024):\n",
    "                    if not block:\n",
    "                        break\n",
    "\n",
    "                    f.write(block)"
   ]
  },
  {
   "cell_type": "markdown",
   "metadata": {
    "papermill": {
     "duration": 0.08975,
     "end_time": "2022-05-21T19:32:13.775396",
     "exception": false,
     "start_time": "2022-05-21T19:32:13.685646",
     "status": "completed"
    },
    "tags": []
   },
   "source": [
    "## grayscale"
   ]
  },
  {
   "cell_type": "code",
   "execution_count": 11,
   "metadata": {
    "execution": {
     "iopub.execute_input": "2022-05-21T19:32:13.965002Z",
     "iopub.status.busy": "2022-05-21T19:32:13.964079Z",
     "iopub.status.idle": "2022-05-21T19:33:33.848659Z",
     "shell.execute_reply": "2022-05-21T19:33:33.849053Z"
    },
    "papermill": {
     "duration": 79.983179,
     "end_time": "2022-05-21T19:33:33.849194",
     "exception": false,
     "start_time": "2022-05-21T19:32:13.866015",
     "status": "completed"
    },
    "tags": []
   },
   "outputs": [
    {
     "name": "stderr",
     "output_type": "stream",
     "text": [
      "downloading images: 100%|██████████| 260/260 [01:19<00:00,  3.26it/s]\n"
     ]
    }
   ],
   "source": [
    "pathname = './grayscale'\n",
    "# if path doesn't exist, make that path dir\n",
    "if not os.path.isdir(pathname):\n",
    "    os.makedirs(pathname)\n",
    "    \n",
    "for i in tqdm(range(len(bw)), \"downloading images\"):\n",
    "    url = bw[i].replace('\\r', '')\n",
    "    filename = os.path.join(pathname, str(i) + str('.png'))\n",
    "\n",
    "    response = requests.get(url)\n",
    "    if response.ok:    \n",
    "        with open(filename, 'wb') as f:\n",
    "                for block in response.iter_content(1024):\n",
    "                    if not block:\n",
    "                        break\n",
    "\n",
    "                    f.write(block)"
   ]
  },
  {
   "cell_type": "code",
   "execution_count": null,
   "metadata": {
    "papermill": {
     "duration": 0.162074,
     "end_time": "2022-05-21T19:33:34.176495",
     "exception": false,
     "start_time": "2022-05-21T19:33:34.014421",
     "status": "completed"
    },
    "tags": []
   },
   "outputs": [],
   "source": []
  }
 ],
 "metadata": {
  "kernelspec": {
   "display_name": "Python 3",
   "language": "python",
   "name": "python3"
  },
  "language_info": {
   "codemirror_mode": {
    "name": "ipython",
    "version": 3
   },
   "file_extension": ".py",
   "mimetype": "text/x-python",
   "name": "python",
   "nbconvert_exporter": "python",
   "pygments_lexer": "ipython3",
   "version": "3.7.6"
  },
  "papermill": {
   "duration": 136.662435,
   "end_time": "2022-05-21T19:33:34.448976",
   "environment_variables": {},
   "exception": null,
   "input_path": "__notebook__.ipynb",
   "output_path": "__notebook__.ipynb",
   "parameters": {},
   "start_time": "2022-05-21T19:31:17.786541",
   "version": "2.1.0"
  }
 },
 "nbformat": 4,
 "nbformat_minor": 4
}
