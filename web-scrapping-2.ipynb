{
 "cells": [
  {
   "cell_type": "markdown",
   "metadata": {
    "papermill": {
     "duration": 0.014309,
     "end_time": "2022-05-21T17:02:03.971310",
     "exception": false,
     "start_time": "2022-05-21T17:02:03.957001",
     "status": "completed"
    },
    "tags": []
   },
   "source": [
    "# Import Libraries"
   ]
  },
  {
   "cell_type": "code",
   "execution_count": 1,
   "metadata": {
    "execution": {
     "iopub.execute_input": "2022-05-21T17:02:04.002552Z",
     "iopub.status.busy": "2022-05-21T17:02:04.001802Z",
     "iopub.status.idle": "2022-05-21T17:02:04.225436Z",
     "shell.execute_reply": "2022-05-21T17:02:04.224566Z",
     "shell.execute_reply.started": "2022-05-21T16:57:18.502208Z"
    },
    "papermill": {
     "duration": 0.241334,
     "end_time": "2022-05-21T17:02:04.225599",
     "exception": false,
     "start_time": "2022-05-21T17:02:03.984265",
     "status": "completed"
    },
    "tags": []
   },
   "outputs": [],
   "source": [
    "import os\n",
    "import numpy as np\n",
    "import bs4\n",
    "import requests\n",
    "import lxml\n",
    "\n",
    "from pprint import pprint\n",
    "from bs4 import BeautifulSoup\n",
    "from tqdm import tqdm\n",
    "from urllib.parse import urljoin, urlparse"
   ]
  },
  {
   "cell_type": "markdown",
   "metadata": {
    "papermill": {
     "duration": 0.012156,
     "end_time": "2022-05-21T17:02:04.252057",
     "exception": false,
     "start_time": "2022-05-21T17:02:04.239901",
     "status": "completed"
    },
    "tags": []
   },
   "source": [
    "# Parse all websites of the Manga"
   ]
  },
  {
   "cell_type": "markdown",
   "metadata": {
    "papermill": {
     "duration": 0.012169,
     "end_time": "2022-05-21T17:02:04.277130",
     "exception": false,
     "start_time": "2022-05-21T17:02:04.264961",
     "status": "completed"
    },
    "tags": []
   },
   "source": [
    "## colored"
   ]
  },
  {
   "cell_type": "code",
   "execution_count": 2,
   "metadata": {
    "execution": {
     "iopub.execute_input": "2022-05-21T17:02:04.308228Z",
     "iopub.status.busy": "2022-05-21T17:02:04.307436Z",
     "iopub.status.idle": "2022-05-21T17:02:05.849137Z",
     "shell.execute_reply": "2022-05-21T17:02:05.848600Z",
     "shell.execute_reply.started": "2022-05-21T16:57:19.306518Z"
    },
    "papermill": {
     "duration": 1.559783,
     "end_time": "2022-05-21T17:02:05.849268",
     "exception": false,
     "start_time": "2022-05-21T17:02:04.289485",
     "status": "completed"
    },
    "tags": []
   },
   "outputs": [
    {
     "name": "stdout",
     "output_type": "stream",
     "text": [
      "988\n"
     ]
    }
   ],
   "source": [
    "html_text = requests.get('https://ww9.readonepiece.com/manga/one-piece-digital-colored-comics/', 'r').text\n",
    "soup = BeautifulSoup(html_text, 'lxml')\n",
    "\n",
    "cl_chapters = soup.find_all('div', class_ = 'bg-bg-secondary p-3 rounded mb-3 shadow')\n",
    "cl_chapter_site = []\n",
    "for chapter in cl_chapters:\n",
    "    site = chapter.find('a', class_ = 'uppercase text-xs bg-text-success text-white font-bold py-1 px-2 rounded').attrs['href']\n",
    "    cl_chapter_site.append(site)\n",
    "\n",
    "cl_chapter_site.sort()\n",
    "pprint(len(cl_chapter_site))"
   ]
  },
  {
   "cell_type": "markdown",
   "metadata": {
    "papermill": {
     "duration": 0.012613,
     "end_time": "2022-05-21T17:02:05.875108",
     "exception": false,
     "start_time": "2022-05-21T17:02:05.862495",
     "status": "completed"
    },
    "tags": []
   },
   "source": [
    "## grayscale"
   ]
  },
  {
   "cell_type": "code",
   "execution_count": 3,
   "metadata": {
    "execution": {
     "iopub.execute_input": "2022-05-21T17:02:05.907834Z",
     "iopub.status.busy": "2022-05-21T17:02:05.907314Z",
     "iopub.status.idle": "2022-05-21T17:02:07.592259Z",
     "shell.execute_reply": "2022-05-21T17:02:07.591477Z",
     "shell.execute_reply.started": "2022-05-21T16:57:23.011048Z"
    },
    "papermill": {
     "duration": 1.704677,
     "end_time": "2022-05-21T17:02:07.592375",
     "exception": false,
     "start_time": "2022-05-21T17:02:05.887698",
     "status": "completed"
    },
    "tags": []
   },
   "outputs": [
    {
     "name": "stdout",
     "output_type": "stream",
     "text": [
      "1060\n"
     ]
    }
   ],
   "source": [
    "html_text = requests.get('https://ww9.readonepiece.com/manga/one-piece/', 'r').text\n",
    "soup = BeautifulSoup(html_text, 'lxml')\n",
    "\n",
    "bw_chapters = soup.find_all('div', class_ = 'bg-bg-secondary p-3 rounded mb-3 shadow')\n",
    "bw_chapter_site = []\n",
    "for chapter in bw_chapters:\n",
    "    site = chapter.find('a', class_ = 'uppercase text-xs bg-text-success text-white font-bold py-1 px-2 rounded').attrs['href']\n",
    "    bw_chapter_site.append(site)\n",
    "\n",
    "bw_chapter_site.sort()\n",
    "pprint(len(bw_chapter_site))"
   ]
  },
  {
   "cell_type": "code",
   "execution_count": 4,
   "metadata": {
    "execution": {
     "iopub.execute_input": "2022-05-21T17:02:07.628005Z",
     "iopub.status.busy": "2022-05-21T17:02:07.627251Z",
     "iopub.status.idle": "2022-05-21T17:02:08.115959Z",
     "shell.execute_reply": "2022-05-21T17:02:08.116408Z",
     "shell.execute_reply.started": "2022-05-21T16:57:25.957004Z"
    },
    "papermill": {
     "duration": 0.509338,
     "end_time": "2022-05-21T17:02:08.116544",
     "exception": false,
     "start_time": "2022-05-21T17:02:07.607206",
     "status": "completed"
    },
    "tags": []
   },
   "outputs": [
    {
     "name": "stderr",
     "output_type": "stream",
     "text": [
      "100%|██████████| 988/988 [00:00<00:00, 2090.30it/s]\n"
     ]
    }
   ],
   "source": [
    "cl_chapters = []\n",
    "bw_chapters = []\n",
    "for i in tqdm(range(len(cl_chapter_site))):\n",
    "    for j in range(len(bw_chapter_site)):\n",
    "        if cl_chapter_site[i][-3:None] == bw_chapter_site[j][-3:None]:\n",
    "            cl_chapters.append(cl_chapter_site[i])\n",
    "            bw_chapters.append(bw_chapter_site[j])\n",
    "        \n",
    "cl_chapters.sort()\n",
    "bw_chapters.sort()"
   ]
  },
  {
   "cell_type": "code",
   "execution_count": 5,
   "metadata": {
    "execution": {
     "iopub.execute_input": "2022-05-21T17:02:08.152350Z",
     "iopub.status.busy": "2022-05-21T17:02:08.151190Z",
     "iopub.status.idle": "2022-05-21T17:02:08.157207Z",
     "shell.execute_reply": "2022-05-21T17:02:08.156380Z",
     "shell.execute_reply.started": "2022-05-21T16:57:26.437611Z"
    },
    "papermill": {
     "duration": 0.025502,
     "end_time": "2022-05-21T17:02:08.157306",
     "exception": false,
     "start_time": "2022-05-21T17:02:08.131804",
     "status": "completed"
    },
    "tags": []
   },
   "outputs": [
    {
     "name": "stdout",
     "output_type": "stream",
     "text": [
      "1062\n",
      "1062\n",
      "['https://ww9.readonepiece.com/chapter/one-piece-digital-colored-comics-chapter-962',\n",
      " 'https://ww9.readonepiece.com/chapter/one-piece-digital-colored-comics-chapter-963',\n",
      " 'https://ww9.readonepiece.com/chapter/one-piece-digital-colored-comics-chapter-964']\n",
      "['https://ww9.readonepiece.com/chapter/one-piece-chapter-962',\n",
      " 'https://ww9.readonepiece.com/chapter/one-piece-chapter-963',\n",
      " 'https://ww9.readonepiece.com/chapter/one-piece-chapter-964']\n"
     ]
    }
   ],
   "source": [
    "pprint(len(cl_chapters))\n",
    "pprint(len(bw_chapters))\n",
    "\n",
    "pprint(cl_chapters[-3:None])\n",
    "pprint(bw_chapters[-3:None])"
   ]
  },
  {
   "cell_type": "markdown",
   "metadata": {
    "papermill": {
     "duration": 0.014946,
     "end_time": "2022-05-21T17:02:08.187581",
     "exception": false,
     "start_time": "2022-05-21T17:02:08.172635",
     "status": "completed"
    },
    "tags": []
   },
   "source": [
    "# Parsing all image urls from each chapter"
   ]
  },
  {
   "cell_type": "markdown",
   "metadata": {
    "papermill": {
     "duration": 0.014897,
     "end_time": "2022-05-21T17:02:08.217685",
     "exception": false,
     "start_time": "2022-05-21T17:02:08.202788",
     "status": "completed"
    },
    "tags": []
   },
   "source": [
    "## colored"
   ]
  },
  {
   "cell_type": "code",
   "execution_count": 6,
   "metadata": {
    "execution": {
     "iopub.execute_input": "2022-05-21T17:02:08.255826Z",
     "iopub.status.busy": "2022-05-21T17:02:08.254971Z",
     "iopub.status.idle": "2022-05-21T17:02:09.006140Z",
     "shell.execute_reply": "2022-05-21T17:02:09.006731Z",
     "shell.execute_reply.started": "2022-05-21T16:58:13.606567Z"
    },
    "papermill": {
     "duration": 0.774115,
     "end_time": "2022-05-21T17:02:09.006908",
     "exception": false,
     "start_time": "2022-05-21T17:02:08.232793",
     "status": "completed"
    },
    "tags": []
   },
   "outputs": [
    {
     "name": "stderr",
     "output_type": "stream",
     "text": [
      "extracting images: 100%|██████████| 1/1 [00:00<00:00,  1.34it/s]\n"
     ]
    }
   ],
   "source": [
    "cl = []\n",
    "# for i in tqdm(range(len(cl_chapters)), \"extracting images\"):\n",
    "for i in tqdm(range(1), \"extracting images\"):\n",
    "    cl_imgs = []\n",
    "    \n",
    "    html_text = requests.get(cl_chapters[i], 'r').text\n",
    "    soup = BeautifulSoup(html_text, 'lxml')\n",
    "\n",
    "    all_imgs = soup.find_all('div', class_ = 'text-center')\n",
    "    for img in all_imgs:\n",
    "        site = img.find(\"img\", class_ = 'mb-3 mx-auto js-page')\n",
    "        if site is not None:\n",
    "            cl_imgs.append(site['src'])\n",
    "            \n",
    "    cl = cl + cl_imgs\n",
    "            \n",
    "#     pprint(cl_imgs)\n",
    "#     pprint(cl)\n",
    "#     raise ValueError(\"done\")"
   ]
  },
  {
   "cell_type": "code",
   "execution_count": 7,
   "metadata": {
    "execution": {
     "iopub.execute_input": "2022-05-21T17:02:09.048658Z",
     "iopub.status.busy": "2022-05-21T17:02:09.046288Z",
     "iopub.status.idle": "2022-05-21T17:02:09.050921Z",
     "shell.execute_reply": "2022-05-21T17:02:09.050287Z",
     "shell.execute_reply.started": "2022-05-21T17:00:06.720777Z"
    },
    "papermill": {
     "duration": 0.026075,
     "end_time": "2022-05-21T17:02:09.051051",
     "exception": false,
     "start_time": "2022-05-21T17:02:09.024976",
     "status": "completed"
    },
    "tags": []
   },
   "outputs": [
    {
     "name": "stdout",
     "output_type": "stream",
     "text": [
      "51\n",
      "['https://img.mghubcdn.com/file/imghub/one-piece-colored/1/49.jpg', 'https://img.mghubcdn.com/file/imghub/one-piece-colored/1/50.jpg']\n"
     ]
    }
   ],
   "source": [
    "print(len(cl))\n",
    "print(cl[-3:-1])"
   ]
  },
  {
   "cell_type": "markdown",
   "metadata": {
    "papermill": {
     "duration": 0.016481,
     "end_time": "2022-05-21T17:02:09.085779",
     "exception": false,
     "start_time": "2022-05-21T17:02:09.069298",
     "status": "completed"
    },
    "tags": []
   },
   "source": [
    "## grayscale"
   ]
  },
  {
   "cell_type": "code",
   "execution_count": 8,
   "metadata": {
    "execution": {
     "iopub.execute_input": "2022-05-21T17:02:09.142688Z",
     "iopub.status.busy": "2022-05-21T17:02:09.141871Z",
     "iopub.status.idle": "2022-05-21T17:02:10.061504Z",
     "shell.execute_reply": "2022-05-21T17:02:10.060825Z",
     "shell.execute_reply.started": "2022-05-21T16:59:28.906056Z"
    },
    "papermill": {
     "duration": 0.959323,
     "end_time": "2022-05-21T17:02:10.061652",
     "exception": false,
     "start_time": "2022-05-21T17:02:09.102329",
     "status": "completed"
    },
    "tags": []
   },
   "outputs": [
    {
     "name": "stderr",
     "output_type": "stream",
     "text": [
      "extracting images: 100%|██████████| 1/1 [00:00<00:00,  1.10it/s]\n"
     ]
    }
   ],
   "source": [
    "bw = []\n",
    "# for i in tqdm(range(len(bw_chapters)), \"extracting images\"):\n",
    "for i in tqdm(range(1), \"extracting images\"):\n",
    "    bw_imgs = []\n",
    "    \n",
    "    html_text = requests.get(bw_chapters[i], 'r').text\n",
    "    soup = BeautifulSoup(html_text, 'lxml')\n",
    "\n",
    "    all_imgs = soup.find_all('div', class_ = 'text-center')\n",
    "    for img in all_imgs:\n",
    "        site = img.find(\"img\", class_ = 'mb-3 mx-auto js-page')\n",
    "        if site is not None:\n",
    "            bw_imgs.append(site['src'])    \n",
    "            \n",
    "    bw = bw + bw_imgs"
   ]
  },
  {
   "cell_type": "code",
   "execution_count": 9,
   "metadata": {
    "execution": {
     "iopub.execute_input": "2022-05-21T17:02:10.102786Z",
     "iopub.status.busy": "2022-05-21T17:02:10.102006Z",
     "iopub.status.idle": "2022-05-21T17:02:10.105903Z",
     "shell.execute_reply": "2022-05-21T17:02:10.105440Z",
     "shell.execute_reply.started": "2022-05-21T17:00:11.450638Z"
    },
    "papermill": {
     "duration": 0.025872,
     "end_time": "2022-05-21T17:02:10.105999",
     "exception": false,
     "start_time": "2022-05-21T17:02:10.080127",
     "status": "completed"
    },
    "tags": []
   },
   "outputs": [
    {
     "name": "stdout",
     "output_type": "stream",
     "text": [
      "56\n",
      "['https://cdn.readonepiece.com/file/mangap/2/10001000/55.jpeg', 'https://cdn.readonepiece.com/file/mangap/2/10001000/56.jpeg']\n"
     ]
    }
   ],
   "source": [
    "print(len(bw))\n",
    "print(bw[-3:-1])"
   ]
  },
  {
   "cell_type": "markdown",
   "metadata": {
    "papermill": {
     "duration": 0.017628,
     "end_time": "2022-05-21T17:02:10.141764",
     "exception": false,
     "start_time": "2022-05-21T17:02:10.124136",
     "status": "completed"
    },
    "tags": []
   },
   "source": [
    "# Download the images"
   ]
  },
  {
   "cell_type": "code",
   "execution_count": 10,
   "metadata": {
    "execution": {
     "iopub.execute_input": "2022-05-21T17:02:10.181730Z",
     "iopub.status.busy": "2022-05-21T17:02:10.181058Z",
     "iopub.status.idle": "2022-05-21T17:02:10.183930Z",
     "shell.execute_reply": "2022-05-21T17:02:10.183500Z"
    },
    "papermill": {
     "duration": 0.024091,
     "end_time": "2022-05-21T17:02:10.184029",
     "exception": false,
     "start_time": "2022-05-21T17:02:10.159938",
     "status": "completed"
    },
    "tags": []
   },
   "outputs": [],
   "source": [
    "# def download(url, pathname):\n",
    "#     url = url.replace('\\r', '')\n",
    "    \n",
    "#     # if path doesn't exist, make that path dir\n",
    "#     if not os.path.isdir(pathname):\n",
    "#         os.makedirs(pathname)\n",
    "\n",
    "#     filename = os.path.join(pathname, url.split(\"/\")[-1])\n",
    "#     with open(filename, \"wb\") as f:\n",
    "#         f.write(requests.get(url).content)"
   ]
  },
  {
   "cell_type": "markdown",
   "metadata": {
    "papermill": {
     "duration": 0.018369,
     "end_time": "2022-05-21T17:02:10.220469",
     "exception": false,
     "start_time": "2022-05-21T17:02:10.202100",
     "status": "completed"
    },
    "tags": []
   },
   "source": [
    "## colored"
   ]
  },
  {
   "cell_type": "code",
   "execution_count": 11,
   "metadata": {
    "execution": {
     "iopub.execute_input": "2022-05-21T17:02:10.263062Z",
     "iopub.status.busy": "2022-05-21T17:02:10.262232Z",
     "iopub.status.idle": "2022-05-21T17:02:17.292497Z",
     "shell.execute_reply": "2022-05-21T17:02:17.292023Z",
     "shell.execute_reply.started": "2022-05-21T17:01:14.181944Z"
    },
    "papermill": {
     "duration": 7.054202,
     "end_time": "2022-05-21T17:02:17.292633",
     "exception": false,
     "start_time": "2022-05-21T17:02:10.238431",
     "status": "completed"
    },
    "tags": []
   },
   "outputs": [
    {
     "name": "stderr",
     "output_type": "stream",
     "text": [
      "downloading images: 100%|██████████| 51/51 [00:07<00:00,  7.26it/s]\n"
     ]
    }
   ],
   "source": [
    "pathname = './colored'\n",
    "# if path doesn't exist, make that path dir\n",
    "if not os.path.isdir(pathname):\n",
    "    os.makedirs(pathname)\n",
    "    \n",
    "for i in tqdm(range(len(cl)), \"downloading images\"):\n",
    "    url = cl[i].replace('\\r', '')\n",
    "        \n",
    "    filename = os.path.join(pathname, str(i) + str('.png'))\n",
    "    \n",
    "    with open(filename, \"wb\") as f:\n",
    "        f.write(requests.get(url).content)"
   ]
  },
  {
   "cell_type": "markdown",
   "metadata": {
    "papermill": {
     "duration": 0.03271,
     "end_time": "2022-05-21T17:02:17.358388",
     "exception": false,
     "start_time": "2022-05-21T17:02:17.325678",
     "status": "completed"
    },
    "tags": []
   },
   "source": [
    "## grayscale"
   ]
  },
  {
   "cell_type": "code",
   "execution_count": 12,
   "metadata": {
    "execution": {
     "iopub.execute_input": "2022-05-21T17:02:17.432294Z",
     "iopub.status.busy": "2022-05-21T17:02:17.431356Z",
     "iopub.status.idle": "2022-05-21T17:02:26.228299Z",
     "shell.execute_reply": "2022-05-21T17:02:26.228682Z",
     "shell.execute_reply.started": "2022-05-21T17:01:20.994058Z"
    },
    "papermill": {
     "duration": 8.837553,
     "end_time": "2022-05-21T17:02:26.228817",
     "exception": false,
     "start_time": "2022-05-21T17:02:17.391264",
     "status": "completed"
    },
    "tags": []
   },
   "outputs": [
    {
     "name": "stderr",
     "output_type": "stream",
     "text": [
      "downloading images: 100%|██████████| 56/56 [00:08<00:00,  6.37it/s]\n"
     ]
    }
   ],
   "source": [
    "pathname = './grayscale'\n",
    "# if path doesn't exist, make that path dir\n",
    "if not os.path.isdir(pathname):\n",
    "    os.makedirs(pathname)\n",
    "    \n",
    "for i in tqdm(range(len(bw)), \"downloading images\"):\n",
    "    url = bw[i].replace('\\r', '')\n",
    "    \n",
    "    filename = os.path.join(pathname, str(i) + str('.png'))\n",
    "    \n",
    "    with open(filename, \"wb\") as f:\n",
    "        f.write(requests.get(url).content)"
   ]
  },
  {
   "cell_type": "code",
   "execution_count": null,
   "metadata": {
    "papermill": {
     "duration": 0.050982,
     "end_time": "2022-05-21T17:02:26.329456",
     "exception": false,
     "start_time": "2022-05-21T17:02:26.278474",
     "status": "completed"
    },
    "tags": []
   },
   "outputs": [],
   "source": []
  }
 ],
 "metadata": {
  "kernelspec": {
   "display_name": "Python 3",
   "language": "python",
   "name": "python3"
  },
  "language_info": {
   "codemirror_mode": {
    "name": "ipython",
    "version": 3
   },
   "file_extension": ".py",
   "mimetype": "text/x-python",
   "name": "python",
   "nbconvert_exporter": "python",
   "pygments_lexer": "ipython3",
   "version": "3.7.6"
  },
  "papermill": {
   "duration": 26.103545,
   "end_time": "2022-05-21T17:02:26.486141",
   "environment_variables": {},
   "exception": null,
   "input_path": "__notebook__.ipynb",
   "output_path": "__notebook__.ipynb",
   "parameters": {},
   "start_time": "2022-05-21T17:02:00.382596",
   "version": "2.1.0"
  }
 },
 "nbformat": 4,
 "nbformat_minor": 4
}
